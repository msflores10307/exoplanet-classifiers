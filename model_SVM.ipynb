{
 "cells": [
  {
   "cell_type": "code",
   "execution_count": 17,
   "metadata": {},
   "outputs": [],
   "source": [
    "import matplotlib.pyplot as plt\n",
    "from sklearn.neighbors import KNeighborsClassifier\n",
    "import pandas as pd\n",
    "import numpy as np\n",
    "import os"
   ]
  },
  {
   "cell_type": "code",
   "execution_count": 18,
   "metadata": {},
   "outputs": [
    {
     "data": {
      "text/html": [
       "<div>\n",
       "<style scoped>\n",
       "    .dataframe tbody tr th:only-of-type {\n",
       "        vertical-align: middle;\n",
       "    }\n",
       "\n",
       "    .dataframe tbody tr th {\n",
       "        vertical-align: top;\n",
       "    }\n",
       "\n",
       "    .dataframe thead th {\n",
       "        text-align: right;\n",
       "    }\n",
       "</style>\n",
       "<table border=\"1\" class=\"dataframe\">\n",
       "  <thead>\n",
       "    <tr style=\"text-align: right;\">\n",
       "      <th></th>\n",
       "      <th>Unnamed: 0</th>\n",
       "      <th>kepoi_name</th>\n",
       "      <th>koi_disposition</th>\n",
       "      <th>koi_pdisposition</th>\n",
       "      <th>rowid</th>\n",
       "      <th>kepid</th>\n",
       "      <th>koi_fpflag_nt</th>\n",
       "      <th>koi_fpflag_ss</th>\n",
       "      <th>koi_fpflag_co</th>\n",
       "      <th>koi_fpflag_ec</th>\n",
       "      <th>...</th>\n",
       "      <th>koi_impact</th>\n",
       "      <th>koi_impact_err1</th>\n",
       "      <th>koi_impact_err2</th>\n",
       "      <th>koi_duration</th>\n",
       "      <th>koi_duration_err1</th>\n",
       "      <th>koi_duration_err2</th>\n",
       "      <th>koi_depth</th>\n",
       "      <th>koi_prad</th>\n",
       "      <th>koi_insol</th>\n",
       "      <th>koi_model_snr</th>\n",
       "    </tr>\n",
       "  </thead>\n",
       "  <tbody>\n",
       "    <tr>\n",
       "      <th>0</th>\n",
       "      <td>0</td>\n",
       "      <td>K00752.01</td>\n",
       "      <td>CONFIRMED</td>\n",
       "      <td>CANDIDATE</td>\n",
       "      <td>1</td>\n",
       "      <td>10797460</td>\n",
       "      <td>0</td>\n",
       "      <td>0</td>\n",
       "      <td>0</td>\n",
       "      <td>0</td>\n",
       "      <td>...</td>\n",
       "      <td>-0.175923</td>\n",
       "      <td>-0.174274</td>\n",
       "      <td>0.149275</td>\n",
       "      <td>-0.411686</td>\n",
       "      <td>-0.385260</td>\n",
       "      <td>0.385260</td>\n",
       "      <td>-0.281810</td>\n",
       "      <td>-0.032699</td>\n",
       "      <td>-0.048067</td>\n",
       "      <td>-0.281610</td>\n",
       "    </tr>\n",
       "    <tr>\n",
       "      <th>1</th>\n",
       "      <td>1</td>\n",
       "      <td>K00752.02</td>\n",
       "      <td>CONFIRMED</td>\n",
       "      <td>CANDIDATE</td>\n",
       "      <td>2</td>\n",
       "      <td>10797460</td>\n",
       "      <td>0</td>\n",
       "      <td>0</td>\n",
       "      <td>0</td>\n",
       "      <td>0</td>\n",
       "      <td>...</td>\n",
       "      <td>-0.044527</td>\n",
       "      <td>-0.201766</td>\n",
       "      <td>-0.088371</td>\n",
       "      <td>-0.172241</td>\n",
       "      <td>-0.334348</td>\n",
       "      <td>0.334348</td>\n",
       "      <td>-0.278660</td>\n",
       "      <td>-0.032514</td>\n",
       "      <td>-0.048598</td>\n",
       "      <td>-0.294177</td>\n",
       "    </tr>\n",
       "    <tr>\n",
       "      <th>2</th>\n",
       "      <td>2</td>\n",
       "      <td>K00753.01</td>\n",
       "      <td>FALSE POSITIVE</td>\n",
       "      <td>FALSE POSITIVE</td>\n",
       "      <td>3</td>\n",
       "      <td>10811496</td>\n",
       "      <td>0</td>\n",
       "      <td>1</td>\n",
       "      <td>0</td>\n",
       "      <td>0</td>\n",
       "      <td>...</td>\n",
       "      <td>0.069847</td>\n",
       "      <td>0.336068</td>\n",
       "      <td>0.204485</td>\n",
       "      <td>-0.593305</td>\n",
       "      <td>-0.456626</td>\n",
       "      <td>0.456626</td>\n",
       "      <td>-0.157619</td>\n",
       "      <td>-0.028690</td>\n",
       "      <td>-0.048408</td>\n",
       "      <td>-0.230716</td>\n",
       "    </tr>\n",
       "    <tr>\n",
       "      <th>3</th>\n",
       "      <td>3</td>\n",
       "      <td>K00754.01</td>\n",
       "      <td>FALSE POSITIVE</td>\n",
       "      <td>FALSE POSITIVE</td>\n",
       "      <td>4</td>\n",
       "      <td>10848459</td>\n",
       "      <td>0</td>\n",
       "      <td>1</td>\n",
       "      <td>0</td>\n",
       "      <td>0</td>\n",
       "      <td>...</td>\n",
       "      <td>0.161526</td>\n",
       "      <td>-0.195821</td>\n",
       "      <td>0.192483</td>\n",
       "      <td>-0.496846</td>\n",
       "      <td>-0.499520</td>\n",
       "      <td>0.499520</td>\n",
       "      <td>-0.191056</td>\n",
       "      <td>-0.022561</td>\n",
       "      <td>-0.043052</td>\n",
       "      <td>0.308766</td>\n",
       "    </tr>\n",
       "    <tr>\n",
       "      <th>4</th>\n",
       "      <td>4</td>\n",
       "      <td>K00755.01</td>\n",
       "      <td>CONFIRMED</td>\n",
       "      <td>CANDIDATE</td>\n",
       "      <td>5</td>\n",
       "      <td>10854555</td>\n",
       "      <td>0</td>\n",
       "      <td>0</td>\n",
       "      <td>0</td>\n",
       "      <td>0</td>\n",
       "      <td>...</td>\n",
       "      <td>-0.010185</td>\n",
       "      <td>-0.183084</td>\n",
       "      <td>-0.116376</td>\n",
       "      <td>-0.613039</td>\n",
       "      <td>-0.444831</td>\n",
       "      <td>0.444831</td>\n",
       "      <td>-0.281962</td>\n",
       "      <td>-0.032540</td>\n",
       "      <td>-0.042838</td>\n",
       "      <td>-0.275201</td>\n",
       "    </tr>\n",
       "  </tbody>\n",
       "</table>\n",
       "<p>5 rows × 23 columns</p>\n",
       "</div>"
      ],
      "text/plain": [
       "   Unnamed: 0 kepoi_name koi_disposition koi_pdisposition  rowid     kepid  \\\n",
       "0           0  K00752.01       CONFIRMED        CANDIDATE      1  10797460   \n",
       "1           1  K00752.02       CONFIRMED        CANDIDATE      2  10797460   \n",
       "2           2  K00753.01  FALSE POSITIVE   FALSE POSITIVE      3  10811496   \n",
       "3           3  K00754.01  FALSE POSITIVE   FALSE POSITIVE      4  10848459   \n",
       "4           4  K00755.01       CONFIRMED        CANDIDATE      5  10854555   \n",
       "\n",
       "   koi_fpflag_nt  koi_fpflag_ss  koi_fpflag_co  koi_fpflag_ec  ...  \\\n",
       "0              0              0              0              0  ...   \n",
       "1              0              0              0              0  ...   \n",
       "2              0              1              0              0  ...   \n",
       "3              0              1              0              0  ...   \n",
       "4              0              0              0              0  ...   \n",
       "\n",
       "   koi_impact  koi_impact_err1  koi_impact_err2  koi_duration  \\\n",
       "0   -0.175923        -0.174274         0.149275     -0.411686   \n",
       "1   -0.044527        -0.201766        -0.088371     -0.172241   \n",
       "2    0.069847         0.336068         0.204485     -0.593305   \n",
       "3    0.161526        -0.195821         0.192483     -0.496846   \n",
       "4   -0.010185        -0.183084        -0.116376     -0.613039   \n",
       "\n",
       "   koi_duration_err1  koi_duration_err2  koi_depth  koi_prad  koi_insol  \\\n",
       "0          -0.385260           0.385260  -0.281810 -0.032699  -0.048067   \n",
       "1          -0.334348           0.334348  -0.278660 -0.032514  -0.048598   \n",
       "2          -0.456626           0.456626  -0.157619 -0.028690  -0.048408   \n",
       "3          -0.499520           0.499520  -0.191056 -0.022561  -0.043052   \n",
       "4          -0.444831           0.444831  -0.281962 -0.032540  -0.042838   \n",
       "\n",
       "   koi_model_snr  \n",
       "0      -0.281610  \n",
       "1      -0.294177  \n",
       "2      -0.230716  \n",
       "3       0.308766  \n",
       "4      -0.275201  \n",
       "\n",
       "[5 rows x 23 columns]"
      ]
     },
     "execution_count": 18,
     "metadata": {},
     "output_type": "execute_result"
    }
   ],
   "source": [
    "df = pd.read_csv('processed.csv').dropna(how='any')\n",
    "df.head()"
   ]
  },
  {
   "cell_type": "code",
   "execution_count": 19,
   "metadata": {},
   "outputs": [],
   "source": [
    "target = df[\"koi_pdisposition\"]\n",
    "target_names = ['candidate','false positive']"
   ]
  },
  {
   "cell_type": "code",
   "execution_count": 20,
   "metadata": {},
   "outputs": [
    {
     "data": {
      "text/plain": [
       "array([1, 0], dtype=int64)"
      ]
     },
     "execution_count": 20,
     "metadata": {},
     "output_type": "execute_result"
    }
   ],
   "source": [
    "target = target.replace(\"CANDIDATE\",1).replace(\"FALSE POSITIVE\",0)\n",
    "target.unique()"
   ]
  },
  {
   "cell_type": "code",
   "execution_count": 21,
   "metadata": {},
   "outputs": [
    {
     "data": {
      "text/plain": [
       "Index(['Unnamed: 0', 'koi_fpflag_nt', 'koi_fpflag_ss', 'koi_fpflag_co',\n",
       "       'koi_fpflag_ec', 'koi_score', 'koi_period_err1', 'koi_period_err2',\n",
       "       'koi_impact', 'koi_impact_err1', 'koi_impact_err2', 'koi_duration',\n",
       "       'koi_duration_err1', 'koi_duration_err2', 'koi_depth', 'koi_prad',\n",
       "       'koi_insol', 'koi_model_snr'],\n",
       "      dtype='object')"
      ]
     },
     "execution_count": 21,
     "metadata": {},
     "output_type": "execute_result"
    }
   ],
   "source": [
    "features = df.drop(['kepoi_name','koi_disposition','koi_pdisposition','rowid','kepid'],axis=1)\n",
    "feature_names = features.columns\n",
    "feature_names"
   ]
  },
  {
   "cell_type": "code",
   "execution_count": 22,
   "metadata": {},
   "outputs": [],
   "source": [
    "from sklearn.model_selection import train_test_split\n",
    "X_train, X_test, y_train, y_test = train_test_split(features, target, random_state=419)"
   ]
  },
  {
   "cell_type": "code",
   "execution_count": 23,
   "metadata": {},
   "outputs": [
    {
     "data": {
      "text/plain": [
       "SVC(C=1.0, break_ties=False, cache_size=200, class_weight=None, coef0=0.0,\n",
       "    decision_function_shape='ovr', degree=3, gamma='scale', kernel='linear',\n",
       "    max_iter=-1, probability=False, random_state=None, shrinking=True,\n",
       "    tol=0.001, verbose=False)"
      ]
     },
     "execution_count": 23,
     "metadata": {},
     "output_type": "execute_result"
    }
   ],
   "source": [
    "# Support vector machine linear classifier\n",
    "from sklearn.svm import SVC \n",
    "model = SVC(kernel='linear')\n",
    "model.fit(X_train, y_train)"
   ]
  },
  {
   "cell_type": "code",
   "execution_count": 24,
   "metadata": {},
   "outputs": [
    {
     "name": "stdout",
     "output_type": "stream",
     "text": [
      "Test Acc: 0.989\n"
     ]
    }
   ],
   "source": [
    "print('Test Acc: %.3f' % model.score(X_test, y_test))"
   ]
  }
 ],
 "metadata": {
  "kernelspec": {
   "display_name": "Python [conda env:PythonData]",
   "language": "python",
   "name": "conda-env-PythonData-py"
  },
  "language_info": {
   "codemirror_mode": {
    "name": "ipython",
    "version": 3
   },
   "file_extension": ".py",
   "mimetype": "text/x-python",
   "name": "python",
   "nbconvert_exporter": "python",
   "pygments_lexer": "ipython3",
   "version": "3.6.10"
  }
 },
 "nbformat": 4,
 "nbformat_minor": 4
}
